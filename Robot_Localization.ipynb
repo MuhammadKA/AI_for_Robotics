{
  "nbformat": 4,
  "nbformat_minor": 0,
  "metadata": {
    "colab": {
      "name": "Robot Localization.ipynb",
      "provenance": [],
      "collapsed_sections": []
    },
    "kernelspec": {
      "name": "python3",
      "display_name": "Python 3"
    }
  },
  "cells": [
    {
      "cell_type": "code",
      "metadata": {
        "id": "CORxzVra1B9K",
        "outputId": "bb539f79-e14a-4655-f447-e9d4ecacc038",
        "colab": {
          "base_uri": "https://localhost:8080/",
          "height": 34
        }
      },
      "source": [
        "p = []\n",
        "n = 5\n",
        "for i in range (5):\n",
        "  p.append(1./n)\n",
        "print(p)"
      ],
      "execution_count": 1,
      "outputs": [
        {
          "output_type": "stream",
          "text": [
            "[0.2, 0.2, 0.2, 0.2, 0.2]\n"
          ],
          "name": "stdout"
        }
      ]
    },
    {
      "cell_type": "code",
      "metadata": {
        "id": "AcNErXCe4oSF",
        "outputId": "dd5d0917-c1cc-4e69-aa54-3e9395e86a0a",
        "colab": {
          "base_uri": "https://localhost:8080/",
          "height": 50
        }
      },
      "source": [
        "#Write code that outputs p after multiplying each entry \n",
        "#by pHit or pMiss at the appropriate places. Remember that\n",
        "#the red cells 1 and 2 are hits and the other green cells\n",
        "#are misses.\n",
        "\n",
        "\n",
        "p=[0.2,0.2,0.2,0.2,0.2]\n",
        "pHit = 0.6\n",
        "pMiss = 0.2\n",
        "\n",
        "#Enter code here\n",
        "p[0] = p[0]*pMiss\n",
        "p[1] = p[1]*pHit\n",
        "p[2] = p[2]*pHit\n",
        "p[3] = p[3]*pMiss\n",
        "p[4] = p[4]*pMiss\n",
        "\n",
        "print(p)\n",
        "sum = sum(p)\n",
        "for i in range(len(p)):\n",
        "  p[i] = p[i]/sum\n",
        "print(p)"
      ],
      "execution_count": 6,
      "outputs": [
        {
          "output_type": "stream",
          "text": [
            "[0.04000000000000001, 0.12, 0.12, 0.04000000000000001, 0.04000000000000001]\n",
            "[0.1111111111111111, 0.3333333333333332, 0.3333333333333332, 0.1111111111111111, 0.1111111111111111]\n"
          ],
          "name": "stdout"
        }
      ]
    },
    {
      "cell_type": "code",
      "metadata": {
        "id": "_7-ua_JB7Fru",
        "outputId": "0cf8b436-45eb-4025-f455-6be444ce7ab3",
        "colab": {
          "base_uri": "https://localhost:8080/",
          "height": 34
        }
      },
      "source": [
        "#Modify the code below so that the function sense, which \n",
        "#takes p and Z as inputs, will output the NON-normalized \n",
        "#probability distribution, q, after multiplying the entries \n",
        "#in p by pHit or pMiss according to the color in the \n",
        "#corresponding cell in world.\n",
        "import numpy\n",
        "\n",
        "p=[0.2, 0.2, 0.2, 0.2, 0.2]\n",
        "world=['green', 'red', 'red', 'green', 'green']\n",
        "Z = 'green'\n",
        "pHit = 0.6\n",
        "pMiss = 0.2\n",
        "\n",
        "#def sense(p, Z):\n",
        "#    #\n",
        "#    #ADD YOUR CODE HERE\n",
        "#    q=[]\n",
        "#    for i in range (len(p)):\n",
        "#        if Z == world[i]:\n",
        "#            q.append(p[i]*pHit)\n",
        "#        else:\n",
        "#            q.append(p[i]*pMiss)\n",
        "#            \n",
        "#    #\n",
        "#    return q\n",
        "\n",
        "#print (sense(p,Z))\n",
        "\n",
        "\n",
        "## Another smart Implementation\n",
        "def sense(p, Z):\n",
        "    #\n",
        "    #ADD YOUR CODE HERE\n",
        "    q=[]\n",
        "    for i in range (len(p)):\n",
        "      hit = (Z == world[i]) #binary flag to check wheather the measurment recieved is the same as the ith grid cell\n",
        "      q.append(p[i]*((hit*pHit) + ((1-hit)*pMiss)))\n",
        "    s = numpy.sum(q)\n",
        "    for i in range (len(q)):\n",
        "     q[i] = q[i]/s\n",
        "    #\n",
        "    return q\n",
        "\n",
        "print (sense(p,Z))\n",
        "##"
      ],
      "execution_count": 23,
      "outputs": [
        {
          "output_type": "stream",
          "text": [
            "[0.2727272727272727, 0.09090909090909093, 0.09090909090909093, 0.2727272727272727, 0.2727272727272727]\n"
          ],
          "name": "stdout"
        }
      ]
    },
    {
      "cell_type": "code",
      "metadata": {
        "id": "_1zOuPYw8T-1",
        "outputId": "64e3f46e-41ca-41f2-dd48-096484aec470",
        "colab": {
          "base_uri": "https://localhost:8080/",
          "height": 34
        }
      },
      "source": [
        "#Modify the code so that it updates the probability twice\n",
        "#and gives the posterior distribution after both \n",
        "#measurements are incorporated. Make sure that your code \n",
        "#allows for any sequence of measurement of any length.\n",
        "\n",
        "p=[0.2, 0.2, 0.2, 0.2, 0.2]\n",
        "world=['green', 'red', 'red', 'green', 'green']\n",
        "measurements = ['red', 'green']\n",
        "pHit = 0.6\n",
        "pMiss = 0.2\n",
        "\n",
        "def sense(p, Z):\n",
        "    q=[]\n",
        "    for i in range(len(p)):\n",
        "        hit = (Z == world[i])\n",
        "        q.append(p[i] * (hit * pHit + (1-hit) * pMiss))\n",
        "    s = numpy.sum(q)\n",
        "    for i in range(len(q)):\n",
        "        q[i] = q[i] / s\n",
        "    return q\n",
        "#\n",
        "for i in range(len(measurements)):\n",
        "  p = sense(p, measurements[i]) # recursively update the belief\n",
        "#\n",
        "\n",
        "print(p)"
      ],
      "execution_count": 26,
      "outputs": [
        {
          "output_type": "stream",
          "text": [
            "[0.20000000000000004, 0.19999999999999996, 0.19999999999999996, 0.20000000000000004, 0.20000000000000004]\n"
          ],
          "name": "stdout"
        }
      ]
    },
    {
      "cell_type": "code",
      "metadata": {
        "id": "9LUSEvAiCLTf",
        "outputId": "dbb3eb67-7462-43b0-a267-597716c11080",
        "colab": {
          "base_uri": "https://localhost:8080/",
          "height": 34
        }
      },
      "source": [
        "#Program a function that returns a new distribution \n",
        "#q, shifted to the right by U units. If U=0, q should \n",
        "#be the same as p.\n",
        "\n",
        "p=[0, 1, 0, 0, 0]\n",
        "world=['green', 'red', 'red', 'green', 'green']\n",
        "measurements = ['red', 'green']\n",
        "pHit = 0.6\n",
        "pMiss = 0.2\n",
        "\n",
        "def sense(p, Z):\n",
        "    q=[]\n",
        "    for i in range(len(p)):\n",
        "        hit = (Z == world[i])\n",
        "        q.append(p[i] * (hit * pHit + (1-hit) * pMiss))\n",
        "    s = sum(q)\n",
        "    for i in range(len(q)):\n",
        "        q[i] = q[i] / s\n",
        "    return q\n",
        "\n",
        "def move(p, U):\n",
        "    #\n",
        "    #ADD CODE HERE\n",
        "    q = []\n",
        "    for i in range(len(p)):\n",
        "      q.append(p[(i-U)%len(p)])  # here we search for where the number come from, so we use a minus sign\n",
        "    #\n",
        "    return q\n",
        "\n",
        "print (move(p, 2))\n"
      ],
      "execution_count": 47,
      "outputs": [
        {
          "output_type": "stream",
          "text": [
            "[0, 0, 0, 1, 0]\n"
          ],
          "name": "stdout"
        }
      ]
    },
    {
      "cell_type": "code",
      "metadata": {
        "id": "UN993xHYNZv2",
        "outputId": "99500e1b-7385-4ea7-bd1e-3c721d68978b",
        "colab": {
          "base_uri": "https://localhost:8080/",
          "height": 34
        }
      },
      "source": [
        "#Modify the move function to accommodate the added \n",
        "#probabilities of overshooting or undershooting \n",
        "#the intended destination.\n",
        "\n",
        "p=[0, 1, 0, 0, 0]\n",
        "world=['green', 'red', 'red', 'green', 'green']\n",
        "measurements = ['red', 'green']\n",
        "pHit = 0.6\n",
        "pMiss = 0.2\n",
        "pExact = 0.8\n",
        "pOvershoot = 0.1\n",
        "pUndershoot = 0.1\n",
        "\n",
        "def sense(p, Z):\n",
        "    q=[]\n",
        "    for i in range(len(p)):\n",
        "        hit = (Z == world[i])\n",
        "        q.append(p[i] * (hit * pHit + (1-hit) * pMiss))\n",
        "    s = sum(q)\n",
        "    for i in range(len(q)):\n",
        "        q[i] = q[i] / s\n",
        "    return q\n",
        "\n",
        "def move(p, U):\n",
        "    q = []\n",
        "    for i in range(len(p)):\n",
        "        s = pExact * p[(i-U)%len(p)]\n",
        "        s = s + pOvershoot * p[(i-U-1)%len(p)]\n",
        "        s = s + pUndershoot * p[(i-U+1)%len(p)]\n",
        "        q.append(s)\n",
        "    return q\n",
        "    \n",
        "\n",
        "print (move(p, 1))\n"
      ],
      "execution_count": 50,
      "outputs": [
        {
          "output_type": "stream",
          "text": [
            "[0.0, 0.1, 0.8, 0.1, 0.0]\n"
          ],
          "name": "stdout"
        }
      ]
    },
    {
      "cell_type": "code",
      "metadata": {
        "id": "UZOMEJViTeYu",
        "outputId": "a1824686-8f6e-4b70-ca9d-5e6281913284",
        "colab": {
          "base_uri": "https://localhost:8080/",
          "height": 34
        }
      },
      "source": [
        "# Write code that makes the robot move twice and then prints \n",
        "# out the resulting distribution, starting with the initial \n",
        "# distribution p = [0, 1, 0, 0, 0]\n",
        "\n",
        "p=[0, 1, 0, 0, 0]\n",
        "world=['green', 'red', 'red', 'green', 'green']\n",
        "measurements = ['red', 'green']\n",
        "pHit = 0.6\n",
        "pMiss = 0.2\n",
        "pExact = 0.8\n",
        "pOvershoot = 0.1\n",
        "pUndershoot = 0.1\n",
        "\n",
        "def sense(p, Z):\n",
        "    q=[]\n",
        "    for i in range(len(p)):\n",
        "        hit = (Z == world[i])\n",
        "        q.append(p[i] * (hit * pHit + (1-hit) * pMiss))\n",
        "    s = sum(q)\n",
        "    for i in range(len(q)):\n",
        "        q[i] = q[i] / s\n",
        "    return q\n",
        "\n",
        "def move(p, U):\n",
        "    q = []\n",
        "    for i in range(len(p)):\n",
        "        s = pExact * p[(i-U) % len(p)]\n",
        "        s = s + pOvershoot * p[(i-U-1) % len(p)]\n",
        "        s = s + pUndershoot * p[(i-U+1) % len(p)]\n",
        "        q.append(s)\n",
        "    return q\n",
        "#\n",
        "# ADD CODE HERE\n",
        "p = move(p,1)\n",
        "p = move(p,1)\n",
        "\n",
        "print (p)\n",
        "#\n",
        "\n",
        "# Make sure to print out p!\n"
      ],
      "execution_count": 53,
      "outputs": [
        {
          "output_type": "stream",
          "text": [
            "[0.010000000000000002, 0.010000000000000002, 0.16000000000000003, 0.6600000000000001, 0.16000000000000003]\n"
          ],
          "name": "stdout"
        }
      ]
    },
    {
      "cell_type": "code",
      "metadata": {
        "id": "zEWiKmGxWW_M",
        "outputId": "5bf37942-4dc6-4e2f-f26e-0338dd8f0b21",
        "colab": {
          "base_uri": "https://localhost:8080/",
          "height": 34
        }
      },
      "source": [
        "#write code that moves 1000 times and then prints the \n",
        "#resulting probability distribution.\n",
        "\n",
        "p=[0, 1, 0, 0, 0]\n",
        "world=['green', 'red', 'red', 'green', 'green']\n",
        "measurements = ['red', 'green']\n",
        "pHit = 0.6\n",
        "pMiss = 0.2\n",
        "pExact = 0.8\n",
        "pOvershoot = 0.1\n",
        "pUndershoot = 0.1\n",
        "\n",
        "def sense(p, Z):\n",
        "    q=[]\n",
        "    for i in range(len(p)):\n",
        "        hit = (Z == world[i])\n",
        "        q.append(p[i] * (hit * pHit + (1-hit) * pMiss))\n",
        "    s = sum(q)\n",
        "    for i in range(len(q)):\n",
        "        q[i] = q[i] / s\n",
        "    return q\n",
        "\n",
        "def move(p, U):\n",
        "    q = []\n",
        "    for i in range(len(p)):\n",
        "        s = pExact * p[(i-U) % len(p)]\n",
        "        s = s + pOvershoot * p[(i-U-1) % len(p)]\n",
        "        s = s + pUndershoot * p[(i-U+1) % len(p)]\n",
        "        q.append(s)\n",
        "    return q\n",
        "#\n",
        "# ADD CODE HERE\n",
        "for i in range(1000):\n",
        "  p = move(p,1)\n",
        "#\n",
        "print (p)\n"
      ],
      "execution_count": 54,
      "outputs": [
        {
          "output_type": "stream",
          "text": [
            "[0.20000000000000365, 0.20000000000000373, 0.20000000000000365, 0.2000000000000035, 0.2000000000000035]\n"
          ],
          "name": "stdout"
        }
      ]
    },
    {
      "cell_type": "code",
      "metadata": {
        "id": "IbV5cC5JW0Pu",
        "outputId": "b2b65103-b682-487b-ba51-13836bf8c290",
        "colab": {
          "base_uri": "https://localhost:8080/",
          "height": 34
        }
      },
      "source": [
        "#Given the list motions=[1,1] which means the robot \n",
        "#moves right and then right again, compute the posterior \n",
        "#distribution if the robot first senses red, then moves \n",
        "#right one, then senses green, then moves right again, \n",
        "#starting with a uniform prior distribution.\n",
        "\n",
        "p=[0.2, 0.2, 0.2, 0.2, 0.2]\n",
        "world=['green', 'red', 'red', 'green', 'green']\n",
        "measurements = ['red', 'red']\n",
        "motions = [1,1]\n",
        "pHit = 0.6\n",
        "pMiss = 0.2\n",
        "pExact = 0.8\n",
        "pOvershoot = 0.1\n",
        "pUndershoot = 0.1\n",
        "\n",
        "def sense(p, Z):\n",
        "    q=[]\n",
        "    for i in range(len(p)):\n",
        "        hit = (Z == world[i])\n",
        "        q.append(p[i] * (hit * pHit + (1-hit) * pMiss))\n",
        "    s = sum(q)\n",
        "    for i in range(len(q)):\n",
        "        q[i] = q[i] / s\n",
        "    return q\n",
        "\n",
        "def move(p, U):\n",
        "    q = []\n",
        "    for i in range(len(p)):\n",
        "        s = pExact * p[(i-U) % len(p)]\n",
        "        s = s + pOvershoot * p[(i-U-1) % len(p)]\n",
        "        s = s + pUndershoot * p[(i-U+1) % len(p)]\n",
        "        q.append(s)\n",
        "    return q\n",
        "#\n",
        "# ADD CODE HERE\n",
        "for k in range(len(measurements)):\n",
        "  p = sense(p, measurements[k])\n",
        "  p = move(p, motions[k])\n",
        "\n",
        "#\n",
        "print (p)         \n"
      ],
      "execution_count": 4,
      "outputs": [
        {
          "output_type": "stream",
          "text": [
            "[0.07882352941176471, 0.07529411764705884, 0.22470588235294123, 0.4329411764705882, 0.18823529411764706]\n"
          ],
          "name": "stdout"
        }
      ]
    },
    {
      "cell_type": "code",
      "metadata": {
        "id": "2PdEBwYuNnLM"
      },
      "source": [
        ""
      ],
      "execution_count": null,
      "outputs": []
    }
  ]
}